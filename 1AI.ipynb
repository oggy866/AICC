{
 "cells": [
  {
   "cell_type": "code",
   "execution_count": 1,
   "id": "d8b525c9-f664-4cda-812b-41b0fa82295d",
   "metadata": {},
   "outputs": [
    {
     "name": "stdout",
     "output_type": "stream",
     "text": [
      "Depth First Search (starting from vertex 0):\n",
      "0 1 2 3 4 \n",
      "Breadth First Search (starting from vertex 0):\n",
      "0 1 2 3 4 "
     ]
    }
   ],
   "source": [
    "from collections import defaultdict, deque\n",
    "\n",
    "class Graph:\n",
    "    def __init__(self):\n",
    "        # Default dictionary to store graph\n",
    "        self.graph = defaultdict(list)\n",
    "\n",
    "    def add_edge(self, u, v):\n",
    "        self.graph[u].append(v)\n",
    "        self.graph[v].append(u)  # Since it's undirected, add the reverse edge as well.\n",
    "\n",
    "    def dfs_recursive(self, vertex, visited=None):\n",
    "        if visited is None:\n",
    "            visited = set()\n",
    "        visited.add(vertex)\n",
    "        print(vertex, end=' ')\n",
    "        for neighbor in self.graph[vertex]:\n",
    "            if neighbor not in visited:\n",
    "                self.dfs_recursive(neighbor, visited)\n",
    "\n",
    "    def bfs(self, start):\n",
    "        visited = set()  # To keep track of visited nodes\n",
    "        queue = deque([start])  # Use deque for an efficient queue implementation\n",
    "        visited.add(start)\n",
    "\n",
    "        while queue:\n",
    "            vertex = queue.popleft()  # Pop the front of the queue\n",
    "            print(vertex, end=' ')\n",
    "\n",
    "            # Add all unvisited neighbors to the queue\n",
    "            for neighbor in self.graph[vertex]:\n",
    "                if neighbor not in visited:\n",
    "                    queue.append(neighbor)\n",
    "                    visited.add(neighbor)\n",
    "\n",
    "# Example usage:\n",
    "g = Graph()\n",
    "g.add_edge(0, 1)\n",
    "g.add_edge(0, 2)\n",
    "g.add_edge(1, 2)\n",
    "g.add_edge(2, 3)\n",
    "g.add_edge(3, 4)\n",
    "\n",
    "print(\"Depth First Search (starting from vertex 0):\")\n",
    "g.dfs_recursive(0)\n",
    "\n",
    "print(\"\\nBreadth First Search (starting from vertex 0):\")\n",
    "g.bfs(0)\n"
   ]
  },
  {
   "cell_type": "code",
   "execution_count": null,
   "id": "d65e6215-2682-4ef2-b22b-b7da41af2624",
   "metadata": {},
   "outputs": [],
   "source": []
  }
 ],
 "metadata": {
  "kernelspec": {
   "display_name": "Python 3 (ipykernel)",
   "language": "python",
   "name": "python3"
  },
  "language_info": {
   "codemirror_mode": {
    "name": "ipython",
    "version": 3
   },
   "file_extension": ".py",
   "mimetype": "text/x-python",
   "name": "python",
   "nbconvert_exporter": "python",
   "pygments_lexer": "ipython3",
   "version": "3.13.2"
  }
 },
 "nbformat": 4,
 "nbformat_minor": 5
}
