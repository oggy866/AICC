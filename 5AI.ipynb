{
 "cells": [
  {
   "cell_type": "code",
   "execution_count": 1,
   "id": "9670ef88-434a-47b6-a912-8f96005ef150",
   "metadata": {},
   "outputs": [
    {
     "name": "stdout",
     "output_type": "stream",
     "text": [
      "Collecting nltk\n",
      "  Downloading nltk-3.9.1-py3-none-any.whl.metadata (2.9 kB)\n",
      "Collecting click (from nltk)\n",
      "  Downloading click-8.1.8-py3-none-any.whl.metadata (2.3 kB)\n",
      "Collecting joblib (from nltk)\n",
      "  Downloading joblib-1.5.0-py3-none-any.whl.metadata (5.6 kB)\n",
      "Collecting regex>=2021.8.3 (from nltk)\n",
      "  Downloading regex-2024.11.6-cp313-cp313-win_amd64.whl.metadata (41 kB)\n",
      "Collecting tqdm (from nltk)\n",
      "  Downloading tqdm-4.67.1-py3-none-any.whl.metadata (57 kB)\n",
      "Requirement already satisfied: colorama in c:\\users\\mangali\\appdata\\local\\programs\\python\\python313\\lib\\site-packages (from click->nltk) (0.4.6)\n",
      "Downloading nltk-3.9.1-py3-none-any.whl (1.5 MB)\n",
      "   ---------------------------------------- 0.0/1.5 MB ? eta -:--:--\n",
      "   ---------------------------------- ----- 1.3/1.5 MB 7.3 MB/s eta 0:00:01\n",
      "   ---------------------------------------- 1.5/1.5 MB 6.5 MB/s eta 0:00:00\n",
      "Downloading regex-2024.11.6-cp313-cp313-win_amd64.whl (273 kB)\n",
      "Downloading click-8.1.8-py3-none-any.whl (98 kB)\n",
      "Downloading joblib-1.5.0-py3-none-any.whl (307 kB)\n",
      "Downloading tqdm-4.67.1-py3-none-any.whl (78 kB)\n",
      "Installing collected packages: tqdm, regex, joblib, click, nltk\n",
      "Successfully installed click-8.1.8 joblib-1.5.0 nltk-3.9.1 regex-2024.11.6 tqdm-4.67.1\n",
      "Note: you may need to restart the kernel to use updated packages.\n"
     ]
    },
    {
     "name": "stderr",
     "output_type": "stream",
     "text": [
      "\n",
      "[notice] A new release of pip is available: 24.3.1 -> 25.1.1\n",
      "[notice] To update, run: python.exe -m pip install --upgrade pip\n"
     ]
    }
   ],
   "source": [
    "pip install nltk"
   ]
  },
  {
   "cell_type": "code",
   "execution_count": null,
   "id": "0d62484f-6a7b-4b0b-9342-8b062b3c6c9c",
   "metadata": {},
   "outputs": [],
   "source": [
    "import nltk\n",
    "from nltk.chat.util import Chat, reflections\n",
    "import tkinter as tk\n",
    "from tkinter import scrolledtext\n",
    "\n",
    "# Define chatbot responses using pairs\n",
    "pairs = [\n",
    "    [r\"hi|hello|hey\", [\"Hello! How can I assist you today?\", \"Hi there! How can I help?\"]],\n",
    "    [r\"how are you?\", [\"I'm just a bot, but I'm doing fine! How about you?\", \"I'm a bot, but thanks for asking!\"]],\n",
    "    [r\"(.*)your name?\", [\"I'm a chatbot, here to assist you.\"]],\n",
    "    [r\"bye|goodbye\", [\"Goodbye! Have a great day!\", \"Bye! Take care!\"]],\n",
    "    [r\"(.*)\", [\"I'm not sure how to respond to that. Could you rephrase?\"]]\n",
    "]\n",
    "\n",
    "# Create chatbot\n",
    "chatbot = Chat(pairs, reflections)\n",
    "\n",
    "def send_message():\n",
    "    user_input = user_entry.get()\n",
    "    chat_history.insert(tk.END, f\"You: {user_input}\\n\")\n",
    "    response = chatbot.respond(user_input)\n",
    "    chat_history.insert(tk.END, f\"Bot: {response}\\n\\n\")\n",
    "    user_entry.delete(0, tk.END)\n",
    "\n",
    "# GUI setup\n",
    "root = tk.Tk()\n",
    "root.title(\"Simple Chatbot\")\n",
    "\n",
    "chat_history = scrolledtext.ScrolledText(root, wrap=tk.WORD, width=50, height=15)\n",
    "chat_history.pack(padx=10, pady=10)\n",
    "\n",
    "user_entry = tk.Entry(root, width=40)\n",
    "user_entry.pack(padx=10, pady=5)\n",
    "\n",
    "send_button = tk.Button(root, text=\"Send\", command=send_message)\n",
    "send_button.pack(pady=5)\n",
    "\n",
    "root.mainloop()"
   ]
  },
  {
   "cell_type": "code",
   "execution_count": null,
   "id": "5a044fbc-eff2-415e-9819-05dea246e040",
   "metadata": {},
   "outputs": [],
   "source": []
  }
 ],
 "metadata": {
  "kernelspec": {
   "display_name": "Python 3 (ipykernel)",
   "language": "python",
   "name": "python3"
  },
  "language_info": {
   "codemirror_mode": {
    "name": "ipython",
    "version": 3
   },
   "file_extension": ".py",
   "mimetype": "text/x-python",
   "name": "python",
   "nbconvert_exporter": "python",
   "pygments_lexer": "ipython3",
   "version": "3.13.2"
  }
 },
 "nbformat": 4,
 "nbformat_minor": 5
}
